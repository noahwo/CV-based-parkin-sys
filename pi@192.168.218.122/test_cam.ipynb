{
 "cells": [
  {
   "cell_type": "code",
   "execution_count": 2,
   "metadata": {},
   "outputs": [
    {
     "ename": "ImportError",
     "evalue": "Matplotlib requires numpy>=1.17; you have 1.16.6",
     "output_type": "error",
     "traceback": [
      "\u001b[0;31m---------------------------------------------------------------------------\u001b[0m",
      "\u001b[0;31mImportError\u001b[0m                               Traceback (most recent call last)",
      "\u001b[1;32m/home/han/Projects/GD_related/parking_space_from_scratch/test_cam.ipynb Cell 1'\u001b[0m in \u001b[0;36m<cell line: 1>\u001b[0;34m()\u001b[0m\n\u001b[0;32m----> <a href='vscode-notebook-cell:/home/han/Projects/GD_related/parking_space_from_scratch/test_cam.ipynb#ch0000000?line=0'>1</a>\u001b[0m \u001b[39mimport\u001b[39;00m \u001b[39mmatplotlib\u001b[39;00m\n\u001b[1;32m      <a href='vscode-notebook-cell:/home/han/Projects/GD_related/parking_space_from_scratch/test_cam.ipynb#ch0000000?line=1'>2</a>\u001b[0m \u001b[39mimport\u001b[39;00m \u001b[39mcv2\u001b[39;00m\n\u001b[1;32m      <a href='vscode-notebook-cell:/home/han/Projects/GD_related/parking_space_from_scratch/test_cam.ipynb#ch0000000?line=2'>3</a>\u001b[0m \u001b[39mimport\u001b[39;00m \u001b[39mre\u001b[39;00m\n",
      "File \u001b[0;32m~/miniconda3/envs/py8/lib/python3.8/site-packages/matplotlib/__init__.py:208\u001b[0m, in \u001b[0;36m<module>\u001b[0;34m\u001b[0m\n\u001b[1;32m    <a href='file:///home/han/miniconda3/envs/py8/lib/python3.8/site-packages/matplotlib/__init__.py?line=202'>203</a>\u001b[0m         \u001b[39mif\u001b[39;00m parse_version(module\u001b[39m.\u001b[39m__version__) \u001b[39m<\u001b[39m parse_version(minver):\n\u001b[1;32m    <a href='file:///home/han/miniconda3/envs/py8/lib/python3.8/site-packages/matplotlib/__init__.py?line=203'>204</a>\u001b[0m             \u001b[39mraise\u001b[39;00m \u001b[39mImportError\u001b[39;00m(\u001b[39mf\u001b[39m\u001b[39m\"\u001b[39m\u001b[39mMatplotlib requires \u001b[39m\u001b[39m{\u001b[39;00mmodname\u001b[39m}\u001b[39;00m\u001b[39m>=\u001b[39m\u001b[39m{\u001b[39;00mminver\u001b[39m}\u001b[39;00m\u001b[39m; \u001b[39m\u001b[39m\"\u001b[39m\n\u001b[1;32m    <a href='file:///home/han/miniconda3/envs/py8/lib/python3.8/site-packages/matplotlib/__init__.py?line=204'>205</a>\u001b[0m                               \u001b[39mf\u001b[39m\u001b[39m\"\u001b[39m\u001b[39myou have \u001b[39m\u001b[39m{\u001b[39;00mmodule\u001b[39m.\u001b[39m__version__\u001b[39m}\u001b[39;00m\u001b[39m\"\u001b[39m)\n\u001b[0;32m--> <a href='file:///home/han/miniconda3/envs/py8/lib/python3.8/site-packages/matplotlib/__init__.py?line=207'>208</a>\u001b[0m _check_versions()\n\u001b[1;32m    <a href='file:///home/han/miniconda3/envs/py8/lib/python3.8/site-packages/matplotlib/__init__.py?line=210'>211</a>\u001b[0m \u001b[39m# The decorator ensures this always returns the same handler (and it is only\u001b[39;00m\n\u001b[1;32m    <a href='file:///home/han/miniconda3/envs/py8/lib/python3.8/site-packages/matplotlib/__init__.py?line=211'>212</a>\u001b[0m \u001b[39m# attached once).\u001b[39;00m\n\u001b[1;32m    <a href='file:///home/han/miniconda3/envs/py8/lib/python3.8/site-packages/matplotlib/__init__.py?line=212'>213</a>\u001b[0m \u001b[39m@functools\u001b[39m\u001b[39m.\u001b[39mlru_cache()\n\u001b[1;32m    <a href='file:///home/han/miniconda3/envs/py8/lib/python3.8/site-packages/matplotlib/__init__.py?line=213'>214</a>\u001b[0m \u001b[39mdef\u001b[39;00m \u001b[39m_ensure_handler\u001b[39m():\n",
      "File \u001b[0;32m~/miniconda3/envs/py8/lib/python3.8/site-packages/matplotlib/__init__.py:204\u001b[0m, in \u001b[0;36m_check_versions\u001b[0;34m()\u001b[0m\n\u001b[1;32m    <a href='file:///home/han/miniconda3/envs/py8/lib/python3.8/site-packages/matplotlib/__init__.py?line=201'>202</a>\u001b[0m module \u001b[39m=\u001b[39m importlib\u001b[39m.\u001b[39mimport_module(modname)\n\u001b[1;32m    <a href='file:///home/han/miniconda3/envs/py8/lib/python3.8/site-packages/matplotlib/__init__.py?line=202'>203</a>\u001b[0m \u001b[39mif\u001b[39;00m parse_version(module\u001b[39m.\u001b[39m__version__) \u001b[39m<\u001b[39m parse_version(minver):\n\u001b[0;32m--> <a href='file:///home/han/miniconda3/envs/py8/lib/python3.8/site-packages/matplotlib/__init__.py?line=203'>204</a>\u001b[0m     \u001b[39mraise\u001b[39;00m \u001b[39mImportError\u001b[39;00m(\u001b[39mf\u001b[39m\u001b[39m\"\u001b[39m\u001b[39mMatplotlib requires \u001b[39m\u001b[39m{\u001b[39;00mmodname\u001b[39m}\u001b[39;00m\u001b[39m>=\u001b[39m\u001b[39m{\u001b[39;00mminver\u001b[39m}\u001b[39;00m\u001b[39m; \u001b[39m\u001b[39m\"\u001b[39m\n\u001b[1;32m    <a href='file:///home/han/miniconda3/envs/py8/lib/python3.8/site-packages/matplotlib/__init__.py?line=204'>205</a>\u001b[0m                       \u001b[39mf\u001b[39m\u001b[39m\"\u001b[39m\u001b[39myou have \u001b[39m\u001b[39m{\u001b[39;00mmodule\u001b[39m.\u001b[39m__version__\u001b[39m}\u001b[39;00m\u001b[39m\"\u001b[39m)\n",
      "\u001b[0;31mImportError\u001b[0m: Matplotlib requires numpy>=1.17; you have 1.16.6"
     ]
    }
   ],
   "source": [
    "\n",
    "import matplotlib\n",
    "import cv2\n",
    "import re\n",
    "from matplotlib import pyplot as plt\n",
    "\"\"\"\n",
    "# 该程序是为了测试相机连接和角度\n",
    "\"\"\"\n",
    "cap = cv2. VideoCapture(0)\n",
    "plate_pattern=re.compile(\"/^([京津沪渝冀豫云辽黑湘皖鲁新苏浙赣鄂桂甘晋蒙陕吉闽贵粤青藏川宁琼使领A-Z]{1}[a-zA-Z](([DF]((?![IO])[a-zA-Z0-9](?![IO]))[0-9]{4})|([0-9]{5}[DF]))|[京津沪渝冀豫云辽黑湘皖鲁新苏浙赣鄂桂甘晋蒙陕吉闽贵粤青藏川宁琼使领A-Z]{1}[A-Z]{1}[A-Z0-9]{4}[A-Z0-9挂学警港澳]{1})$/\") \n",
    "if (cap.isOpened()):\n",
    "    ret, frame = cap.read()\n",
    "    cap.release()\n",
    "    if ret:\n",
    "        plt.imshow(frame)\n",
    "        # print(plate_)\n",
    "    else:\n",
    "        print(\"No video frame captured!\")\n",
    "else: \n",
    "    print(\"Camera is not working (opened)!\")\n"
   ]
  }
 ],
 "metadata": {
  "interpreter": {
   "hash": "ca9fa1891ae62d0464ff9c2913e1afe6a3759bcd4d8a88cac9d15d4b80b68fe0"
  },
  "kernelspec": {
   "display_name": "Python 3.8.12 ('py8')",
   "language": "python",
   "name": "python3"
  },
  "language_info": {
   "codemirror_mode": {
    "name": "ipython",
    "version": 3
   },
   "file_extension": ".py",
   "mimetype": "text/x-python",
   "name": "python",
   "nbconvert_exporter": "python",
   "pygments_lexer": "ipython3",
   "version": "3.8.12"
  }
 },
 "nbformat": 4,
 "nbformat_minor": 2
}
